{
 "cells": [
  {
   "cell_type": "code",
   "execution_count": 2,
   "id": "2bcae7e5",
   "metadata": {},
   "outputs": [],
   "source": [
    "import pandas as pd\n",
    "from sklearn.feature_extraction.text import CountVectorizer\n",
    "from nltk.tokenize import word_tokenize"
   ]
  },
  {
   "cell_type": "code",
   "execution_count": 3,
   "id": "52982600",
   "metadata": {},
   "outputs": [
    {
     "data": {
      "text/html": [
       "<div>\n",
       "<style scoped>\n",
       "    .dataframe tbody tr th:only-of-type {\n",
       "        vertical-align: middle;\n",
       "    }\n",
       "\n",
       "    .dataframe tbody tr th {\n",
       "        vertical-align: top;\n",
       "    }\n",
       "\n",
       "    .dataframe thead th {\n",
       "        text-align: right;\n",
       "    }\n",
       "</style>\n",
       "<table border=\"1\" class=\"dataframe\">\n",
       "  <thead>\n",
       "    <tr style=\"text-align: right;\">\n",
       "      <th></th>\n",
       "      <th>title</th>\n",
       "      <th>original_language</th>\n",
       "      <th>release_date</th>\n",
       "      <th>popularity</th>\n",
       "      <th>vote_average</th>\n",
       "      <th>vote_count</th>\n",
       "      <th>overview</th>\n",
       "    </tr>\n",
       "    <tr>\n",
       "      <th>index</th>\n",
       "      <th></th>\n",
       "      <th></th>\n",
       "      <th></th>\n",
       "      <th></th>\n",
       "      <th></th>\n",
       "      <th></th>\n",
       "      <th></th>\n",
       "    </tr>\n",
       "  </thead>\n",
       "  <tbody>\n",
       "    <tr>\n",
       "      <th>0</th>\n",
       "      <td>Spider-Man: Across the Spider-Verse</td>\n",
       "      <td>en</td>\n",
       "      <td>31-05-2023</td>\n",
       "      <td>3368.627</td>\n",
       "      <td>8.5</td>\n",
       "      <td>3386</td>\n",
       "      <td>After reuniting with Gwen Stacy, Brooklyn’s fu...</td>\n",
       "    </tr>\n",
       "    <tr>\n",
       "      <th>1</th>\n",
       "      <td>Transformers: Rise of the Beasts</td>\n",
       "      <td>en</td>\n",
       "      <td>06-06-2023</td>\n",
       "      <td>2160.316</td>\n",
       "      <td>7.5</td>\n",
       "      <td>2747</td>\n",
       "      <td>When a new threat capable of destroying the en...</td>\n",
       "    </tr>\n",
       "    <tr>\n",
       "      <th>2</th>\n",
       "      <td>The Flash</td>\n",
       "      <td>en</td>\n",
       "      <td>13-06-2023</td>\n",
       "      <td>2108.713</td>\n",
       "      <td>7.0</td>\n",
       "      <td>2305</td>\n",
       "      <td>When his attempt to save his family inadverten...</td>\n",
       "    </tr>\n",
       "    <tr>\n",
       "      <th>3</th>\n",
       "      <td>No Hard Feelings</td>\n",
       "      <td>en</td>\n",
       "      <td>15-06-2023</td>\n",
       "      <td>1978.358</td>\n",
       "      <td>7.1</td>\n",
       "      <td>562</td>\n",
       "      <td>On the brink of losing her childhood home, Mad...</td>\n",
       "    </tr>\n",
       "    <tr>\n",
       "      <th>4</th>\n",
       "      <td>Barbie</td>\n",
       "      <td>en</td>\n",
       "      <td>19-07-2023</td>\n",
       "      <td>1976.513</td>\n",
       "      <td>7.5</td>\n",
       "      <td>3013</td>\n",
       "      <td>Barbie and Ken are having the time of their li...</td>\n",
       "    </tr>\n",
       "  </tbody>\n",
       "</table>\n",
       "</div>"
      ],
      "text/plain": [
       "                                     title original_language release_date  \\\n",
       "index                                                                       \n",
       "0      Spider-Man: Across the Spider-Verse                en   31-05-2023   \n",
       "1         Transformers: Rise of the Beasts                en   06-06-2023   \n",
       "2                                The Flash                en   13-06-2023   \n",
       "3                         No Hard Feelings                en   15-06-2023   \n",
       "4                                   Barbie                en   19-07-2023   \n",
       "\n",
       "       popularity  vote_average  vote_count  \\\n",
       "index                                         \n",
       "0        3368.627           8.5        3386   \n",
       "1        2160.316           7.5        2747   \n",
       "2        2108.713           7.0        2305   \n",
       "3        1978.358           7.1         562   \n",
       "4        1976.513           7.5        3013   \n",
       "\n",
       "                                                overview  \n",
       "index                                                     \n",
       "0      After reuniting with Gwen Stacy, Brooklyn’s fu...  \n",
       "1      When a new threat capable of destroying the en...  \n",
       "2      When his attempt to save his family inadverten...  \n",
       "3      On the brink of losing her childhood home, Mad...  \n",
       "4      Barbie and Ken are having the time of their li...  "
      ]
     },
     "execution_count": 3,
     "metadata": {},
     "output_type": "execute_result"
    }
   ],
   "source": [
    "df = pd.read_csv(\"data/Movies_dataset.csv\", index_col=['index'])\n",
    "df.head()"
   ]
  },
  {
   "cell_type": "code",
   "execution_count": 7,
   "id": "a1f86935",
   "metadata": {},
   "outputs": [
    {
     "data": {
      "text/plain": [
       "index\n",
       "0       False\n",
       "1       False\n",
       "2       False\n",
       "3       False\n",
       "4       False\n",
       "        ...  \n",
       "9995    False\n",
       "9996    False\n",
       "9997    False\n",
       "9998    False\n",
       "9999    False\n",
       "Name: overview, Length: 10000, dtype: bool"
      ]
     },
     "execution_count": 7,
     "metadata": {},
     "output_type": "execute_result"
    }
   ],
   "source": [
    "df.overview.isna()"
   ]
  },
  {
   "cell_type": "code",
   "execution_count": 9,
   "id": "40a88156",
   "metadata": {},
   "outputs": [],
   "source": [
    "df = df.drop(df[df.overview.isna()].index)\n"
   ]
  },
  {
   "cell_type": "code",
   "execution_count": 13,
   "id": "43b07ef9",
   "metadata": {},
   "outputs": [],
   "source": [
    "bow = CountVectorizer(stop_words='english', tokenizer=word_tokenize)\n",
    "bank = bow.fit_transform(df.overview)"
   ]
  },
  {
   "cell_type": "code",
   "execution_count": 15,
   "id": "85f7f8a5",
   "metadata": {},
   "outputs": [
    {
     "data": {
      "text/plain": [
       "'After reuniting with Gwen Stacy, Brooklyn’s full-time, friendly neighborhood Spider-Man is catapulted across the Multiverse, where he encounters the Spider Society, a team of Spider-People charged with protecting the Multiverse’s very existence. But when the heroes clash on how to handle a new threat, Miles finds himself pitted against the other Spiders and must set out on his own to save those he loves most.'"
      ]
     },
     "execution_count": 15,
     "metadata": {},
     "output_type": "execute_result"
    }
   ],
   "source": [
    "idx = 0\n",
    "\n",
    "content = df.loc[idx, 'overview']\n",
    "content"
   ]
  },
  {
   "cell_type": "code",
   "execution_count": 17,
   "id": "d182da7a",
   "metadata": {},
   "outputs": [
    {
     "data": {
      "text/plain": [
       "array([[0, 0, 0, ..., 0, 0, 0]], dtype=int64)"
      ]
     },
     "execution_count": 17,
     "metadata": {},
     "output_type": "execute_result"
    }
   ],
   "source": [
    "code = bow.transform([content])\n",
    "code.toarray()"
   ]
  },
  {
   "cell_type": "code",
   "execution_count": 18,
   "id": "1f6a6beb",
   "metadata": {},
   "outputs": [
    {
     "data": {
      "text/html": [
       "<div>\n",
       "<style scoped>\n",
       "    .dataframe tbody tr th:only-of-type {\n",
       "        vertical-align: middle;\n",
       "    }\n",
       "\n",
       "    .dataframe tbody tr th {\n",
       "        vertical-align: top;\n",
       "    }\n",
       "\n",
       "    .dataframe thead th {\n",
       "        text-align: right;\n",
       "    }\n",
       "</style>\n",
       "<table border=\"1\" class=\"dataframe\">\n",
       "  <thead>\n",
       "    <tr style=\"text-align: right;\">\n",
       "      <th></th>\n",
       "      <th>title</th>\n",
       "      <th>original_language</th>\n",
       "      <th>release_date</th>\n",
       "      <th>popularity</th>\n",
       "      <th>vote_average</th>\n",
       "      <th>vote_count</th>\n",
       "      <th>overview</th>\n",
       "    </tr>\n",
       "    <tr>\n",
       "      <th>index</th>\n",
       "      <th></th>\n",
       "      <th></th>\n",
       "      <th></th>\n",
       "      <th></th>\n",
       "      <th></th>\n",
       "      <th></th>\n",
       "      <th></th>\n",
       "    </tr>\n",
       "  </thead>\n",
       "  <tbody>\n",
       "    <tr>\n",
       "      <th>8516</th>\n",
       "      <td>What a Good Secretary Wants</td>\n",
       "      <td>ko</td>\n",
       "      <td>20-05-2016</td>\n",
       "      <td>13.909</td>\n",
       "      <td>5.0</td>\n",
       "      <td>6</td>\n",
       "      <td>The silent secret of the perfect woman.  Geniu...</td>\n",
       "    </tr>\n",
       "    <tr>\n",
       "      <th>7865</th>\n",
       "      <td>Ghosts of Mars</td>\n",
       "      <td>en</td>\n",
       "      <td>24-08-2001</td>\n",
       "      <td>14.553</td>\n",
       "      <td>5.1</td>\n",
       "      <td>963</td>\n",
       "      <td>In 2176, a Martian police unit is sent to pick...</td>\n",
       "    </tr>\n",
       "    <tr>\n",
       "      <th>6089</th>\n",
       "      <td>Frequency</td>\n",
       "      <td>en</td>\n",
       "      <td>28-04-2000</td>\n",
       "      <td>17.041</td>\n",
       "      <td>7.2</td>\n",
       "      <td>1564</td>\n",
       "      <td>When a rare phenomenon gives police officer Jo...</td>\n",
       "    </tr>\n",
       "    <tr>\n",
       "      <th>6774</th>\n",
       "      <td>Pretty in Pink</td>\n",
       "      <td>en</td>\n",
       "      <td>28-02-1986</td>\n",
       "      <td>15.980</td>\n",
       "      <td>6.8</td>\n",
       "      <td>996</td>\n",
       "      <td>Andie is an outcast, hanging out either with h...</td>\n",
       "    </tr>\n",
       "    <tr>\n",
       "      <th>329</th>\n",
       "      <td>Ryo</td>\n",
       "      <td>ja</td>\n",
       "      <td>02-03-2013</td>\n",
       "      <td>82.626</td>\n",
       "      <td>7.3</td>\n",
       "      <td>2</td>\n",
       "      <td>The son of a samurai who lost his parents duri...</td>\n",
       "    </tr>\n",
       "    <tr>\n",
       "      <th>2935</th>\n",
       "      <td>Gremlins 2: The New Batch</td>\n",
       "      <td>en</td>\n",
       "      <td>15-06-1990</td>\n",
       "      <td>26.370</td>\n",
       "      <td>6.4</td>\n",
       "      <td>2265</td>\n",
       "      <td>Young sweethearts Billy and Kate move to the B...</td>\n",
       "    </tr>\n",
       "    <tr>\n",
       "      <th>2887</th>\n",
       "      <td>All the Bright Places</td>\n",
       "      <td>en</td>\n",
       "      <td>28-02-2020</td>\n",
       "      <td>26.674</td>\n",
       "      <td>7.7</td>\n",
       "      <td>2679</td>\n",
       "      <td>Two teens facing personal struggles form a pow...</td>\n",
       "    </tr>\n",
       "    <tr>\n",
       "      <th>4856</th>\n",
       "      <td>Quick Change</td>\n",
       "      <td>en</td>\n",
       "      <td>13-07-1990</td>\n",
       "      <td>19.596</td>\n",
       "      <td>6.7</td>\n",
       "      <td>311</td>\n",
       "      <td>With the aid of his girlfriend, Phyllis Potter...</td>\n",
       "    </tr>\n",
       "    <tr>\n",
       "      <th>2407</th>\n",
       "      <td>Nanny McPhee</td>\n",
       "      <td>en</td>\n",
       "      <td>21-10-2005</td>\n",
       "      <td>29.855</td>\n",
       "      <td>6.6</td>\n",
       "      <td>2778</td>\n",
       "      <td>Widower Cedric Brown hires Nanny McPhee to car...</td>\n",
       "    </tr>\n",
       "    <tr>\n",
       "      <th>6208</th>\n",
       "      <td>Gia</td>\n",
       "      <td>en</td>\n",
       "      <td>31-01-1998</td>\n",
       "      <td>16.849</td>\n",
       "      <td>7.1</td>\n",
       "      <td>661</td>\n",
       "      <td>Gia Carangi travels to New York City with drea...</td>\n",
       "    </tr>\n",
       "  </tbody>\n",
       "</table>\n",
       "</div>"
      ],
      "text/plain": [
       "                             title original_language release_date  popularity  \\\n",
       "index                                                                           \n",
       "8516   What a Good Secretary Wants                ko   20-05-2016      13.909   \n",
       "7865                Ghosts of Mars                en   24-08-2001      14.553   \n",
       "6089                     Frequency                en   28-04-2000      17.041   \n",
       "6774                Pretty in Pink                en   28-02-1986      15.980   \n",
       "329                            Ryo                ja   02-03-2013      82.626   \n",
       "2935     Gremlins 2: The New Batch                en   15-06-1990      26.370   \n",
       "2887         All the Bright Places                en   28-02-2020      26.674   \n",
       "4856                  Quick Change                en   13-07-1990      19.596   \n",
       "2407                  Nanny McPhee                en   21-10-2005      29.855   \n",
       "6208                           Gia                en   31-01-1998      16.849   \n",
       "\n",
       "       vote_average  vote_count  \\\n",
       "index                             \n",
       "8516            5.0           6   \n",
       "7865            5.1         963   \n",
       "6089            7.2        1564   \n",
       "6774            6.8         996   \n",
       "329             7.3           2   \n",
       "2935            6.4        2265   \n",
       "2887            7.7        2679   \n",
       "4856            6.7         311   \n",
       "2407            6.6        2778   \n",
       "6208            7.1         661   \n",
       "\n",
       "                                                overview  \n",
       "index                                                     \n",
       "8516   The silent secret of the perfect woman.  Geniu...  \n",
       "7865   In 2176, a Martian police unit is sent to pick...  \n",
       "6089   When a rare phenomenon gives police officer Jo...  \n",
       "6774   Andie is an outcast, hanging out either with h...  \n",
       "329    The son of a samurai who lost his parents duri...  \n",
       "2935   Young sweethearts Billy and Kate move to the B...  \n",
       "2887   Two teens facing personal struggles form a pow...  \n",
       "4856   With the aid of his girlfriend, Phyllis Potter...  \n",
       "2407   Widower Cedric Brown hires Nanny McPhee to car...  \n",
       "6208   Gia Carangi travels to New York City with drea...  "
      ]
     },
     "execution_count": 18,
     "metadata": {},
     "output_type": "execute_result"
    }
   ],
   "source": [
    "from sklearn.metrics.pairwise import cosine_distances\n",
    "\n",
    "dist = cosine_distances(code, bank)\n",
    "rec_film = dist.argsort()[0, 1:11]\n",
    "\n",
    "df.loc[rec_film]"
   ]
  },
  {
   "cell_type": "code",
   "execution_count": null,
   "id": "e1e763ca",
   "metadata": {},
   "outputs": [],
   "source": []
  },
  {
   "cell_type": "code",
   "execution_count": null,
   "id": "f60db989",
   "metadata": {},
   "outputs": [],
   "source": []
  },
  {
   "cell_type": "code",
   "execution_count": null,
   "id": "1b19bbf5",
   "metadata": {},
   "outputs": [],
   "source": []
  },
  {
   "cell_type": "code",
   "execution_count": null,
   "id": "f7265723",
   "metadata": {},
   "outputs": [],
   "source": []
  },
  {
   "cell_type": "code",
   "execution_count": null,
   "id": "a81e80e7",
   "metadata": {},
   "outputs": [],
   "source": []
  },
  {
   "cell_type": "code",
   "execution_count": null,
   "id": "cadd19f8",
   "metadata": {},
   "outputs": [],
   "source": []
  },
  {
   "cell_type": "code",
   "execution_count": null,
   "id": "c8afb6c8",
   "metadata": {},
   "outputs": [],
   "source": []
  },
  {
   "cell_type": "code",
   "execution_count": null,
   "id": "6de4f951",
   "metadata": {},
   "outputs": [],
   "source": []
  },
  {
   "cell_type": "code",
   "execution_count": null,
   "id": "ea6d9e79",
   "metadata": {},
   "outputs": [],
   "source": []
  },
  {
   "cell_type": "code",
   "execution_count": null,
   "id": "8efab468",
   "metadata": {},
   "outputs": [],
   "source": []
  },
  {
   "cell_type": "code",
   "execution_count": null,
   "id": "2ba681ca",
   "metadata": {},
   "outputs": [],
   "source": []
  },
  {
   "cell_type": "code",
   "execution_count": null,
   "id": "e2a81941",
   "metadata": {},
   "outputs": [],
   "source": []
  }
 ],
 "metadata": {
  "kernelspec": {
   "display_name": "Python [conda env:jcopml]",
   "language": "python",
   "name": "conda-env-jcopml-py"
  },
  "language_info": {
   "codemirror_mode": {
    "name": "ipython",
    "version": 3
   },
   "file_extension": ".py",
   "mimetype": "text/x-python",
   "name": "python",
   "nbconvert_exporter": "python",
   "pygments_lexer": "ipython3",
   "version": "3.9.0"
  },
  "varInspector": {
   "cols": {
    "lenName": 16,
    "lenType": 16,
    "lenVar": 40
   },
   "kernels_config": {
    "python": {
     "delete_cmd_postfix": "",
     "delete_cmd_prefix": "del ",
     "library": "var_list.py",
     "varRefreshCmd": "print(var_dic_list())"
    },
    "r": {
     "delete_cmd_postfix": ") ",
     "delete_cmd_prefix": "rm(",
     "library": "var_list.r",
     "varRefreshCmd": "cat(var_dic_list()) "
    }
   },
   "types_to_exclude": [
    "module",
    "function",
    "builtin_function_or_method",
    "instance",
    "_Feature"
   ],
   "window_display": false
  }
 },
 "nbformat": 4,
 "nbformat_minor": 5
}
